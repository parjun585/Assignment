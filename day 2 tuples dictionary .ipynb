{
 "cells": [
  {
   "cell_type": "code",
   "execution_count": 1,
   "id": "d173224b-4405-48d9-9ee9-d618e39a09c5",
   "metadata": {},
   "outputs": [
    {
     "data": {
      "text/plain": [
       "'adada'"
      ]
     },
     "execution_count": 1,
     "metadata": {},
     "output_type": "execute_result"
    }
   ],
   "source": [
    "p=[1212,'sabadh','adada', 1223,33313,213123.5]\n",
    "p[2]"
   ]
  },
  {
   "cell_type": "code",
   "execution_count": 2,
   "id": "887fc92b-8291-468e-b402-bb1906408217",
   "metadata": {},
   "outputs": [
    {
     "ename": "TypeError",
     "evalue": "can only concatenate list (not \"str\") to list",
     "output_type": "error",
     "traceback": [
      "\u001b[0;31m---------------------------------------------------------------------------\u001b[0m",
      "\u001b[0;31mTypeError\u001b[0m                                 Traceback (most recent call last)",
      "Cell \u001b[0;32mIn[2], line 2\u001b[0m\n\u001b[1;32m      1\u001b[0m s\u001b[38;5;241m=\u001b[39m\u001b[38;5;124m'\u001b[39m\u001b[38;5;124marjun\u001b[39m\u001b[38;5;124m'\u001b[39m\n\u001b[0;32m----> 2\u001b[0m \u001b[43mp\u001b[49m\u001b[38;5;241;43m+\u001b[39;49m\u001b[43ms\u001b[49m\n",
      "\u001b[0;31mTypeError\u001b[0m: can only concatenate list (not \"str\") to list"
     ]
    }
   ],
   "source": [
    "s='arjun'\n",
    "p+s"
   ]
  },
  {
   "cell_type": "code",
   "execution_count": 3,
   "id": "19aa7a89-0b4f-4d60-909b-4afcb14c9c1f",
   "metadata": {},
   "outputs": [
    {
     "data": {
      "text/plain": [
       "['a', 'r', 'j', 'u', 'n']"
      ]
     },
     "execution_count": 3,
     "metadata": {},
     "output_type": "execute_result"
    }
   ],
   "source": [
    "list(s)"
   ]
  },
  {
   "cell_type": "code",
   "execution_count": 4,
   "id": "c8691085-1f0e-4764-975e-8ff5088d1665",
   "metadata": {},
   "outputs": [
    {
     "ename": "TypeError",
     "evalue": "can only concatenate list (not \"int\") to list",
     "output_type": "error",
     "traceback": [
      "\u001b[0;31m---------------------------------------------------------------------------\u001b[0m",
      "\u001b[0;31mTypeError\u001b[0m                                 Traceback (most recent call last)",
      "Cell \u001b[0;32mIn[4], line 1\u001b[0m\n\u001b[0;32m----> 1\u001b[0m \u001b[38;5;28;43mlist\u001b[39;49m\u001b[43m(\u001b[49m\u001b[43ms\u001b[49m\u001b[43m)\u001b[49m\u001b[38;5;241;43m+\u001b[39;49m\u001b[38;5;241;43m1\u001b[39;49m\n",
      "\u001b[0;31mTypeError\u001b[0m: can only concatenate list (not \"int\") to list"
     ]
    }
   ],
   "source": [
    "list(s)+1"
   ]
  },
  {
   "cell_type": "code",
   "execution_count": 5,
   "id": "66d0ee29-c86d-4ba4-9b54-4ea1fdc4c863",
   "metadata": {},
   "outputs": [
    {
     "ename": "NameError",
     "evalue": "name 'l' is not defined",
     "output_type": "error",
     "traceback": [
      "\u001b[0;31m---------------------------------------------------------------------------\u001b[0m",
      "\u001b[0;31mNameError\u001b[0m                                 Traceback (most recent call last)",
      "Cell \u001b[0;32mIn[5], line 1\u001b[0m\n\u001b[0;32m----> 1\u001b[0m \u001b[38;5;28mlist\u001b[39m(s)\u001b[38;5;241m+\u001b[39m\u001b[43ml\u001b[49m\n",
      "\u001b[0;31mNameError\u001b[0m: name 'l' is not defined"
     ]
    }
   ],
   "source": [
    "list(s)+l"
   ]
  },
  {
   "cell_type": "code",
   "execution_count": 6,
   "id": "ca75a3bd-4677-4157-b6f1-d47887fc4e0a",
   "metadata": {},
   "outputs": [
    {
     "data": {
      "text/plain": [
       "['a', 'r', 'j', 'u', 'n', 1212, 'sabadh', 'adada', 1223, 33313, 213123.5]"
      ]
     },
     "execution_count": 6,
     "metadata": {},
     "output_type": "execute_result"
    }
   ],
   "source": [
    "list(s)+p"
   ]
  },
  {
   "cell_type": "code",
   "execution_count": 7,
   "id": "faa40e2a-540e-4ddc-b31c-27e15c5b576b",
   "metadata": {},
   "outputs": [
    {
     "ename": "TypeError",
     "evalue": "descriptor 'append' for 'list' objects doesn't apply to a 'str' object",
     "output_type": "error",
     "traceback": [
      "\u001b[0;31m---------------------------------------------------------------------------\u001b[0m",
      "\u001b[0;31mTypeError\u001b[0m                                 Traceback (most recent call last)",
      "Cell \u001b[0;32mIn[7], line 1\u001b[0m\n\u001b[0;32m----> 1\u001b[0m \u001b[38;5;28;43mlist\u001b[39;49m\u001b[38;5;241;43m.\u001b[39;49m\u001b[43mappend\u001b[49m\u001b[43m(\u001b[49m\u001b[38;5;124;43m'\u001b[39;49m\u001b[38;5;124;43msad is happy\u001b[39;49m\u001b[38;5;124;43m'\u001b[39;49m\u001b[43m)\u001b[49m\n",
      "\u001b[0;31mTypeError\u001b[0m: descriptor 'append' for 'list' objects doesn't apply to a 'str' object"
     ]
    }
   ],
   "source": [
    "list.append('sad is happy')"
   ]
  },
  {
   "cell_type": "code",
   "execution_count": 8,
   "id": "1c1ac08a-ca19-404c-96ee-3c3ed39d22a4",
   "metadata": {},
   "outputs": [
    {
     "ename": "NameError",
     "evalue": "name 'sdsd' is not defined",
     "output_type": "error",
     "traceback": [
      "\u001b[0;31m---------------------------------------------------------------------------\u001b[0m",
      "\u001b[0;31mNameError\u001b[0m                                 Traceback (most recent call last)",
      "Cell \u001b[0;32mIn[8], line 1\u001b[0m\n\u001b[0;32m----> 1\u001b[0m \u001b[38;5;28mlist\u001b[39m\u001b[38;5;241m.\u001b[39mappend(\u001b[43msdsd\u001b[49m)\n",
      "\u001b[0;31mNameError\u001b[0m: name 'sdsd' is not defined"
     ]
    }
   ],
   "source": [
    "list.append(sdsd)"
   ]
  },
  {
   "cell_type": "code",
   "execution_count": 10,
   "id": "a7c278a9-cc91-4abd-982a-b03519a24318",
   "metadata": {},
   "outputs": [],
   "source": [
    "p.append('ASDA')"
   ]
  },
  {
   "cell_type": "code",
   "execution_count": 11,
   "id": "e84f0e2c-16a5-4471-9ba7-3293ef49fff8",
   "metadata": {},
   "outputs": [
    {
     "name": "stdout",
     "output_type": "stream",
     "text": [
      "[1212, 'sabadh', 'adada', 1223, 33313, 213123.5, 'ASDA', 'ASDA']\n"
     ]
    }
   ],
   "source": [
    "print(p)"
   ]
  },
  {
   "cell_type": "code",
   "execution_count": 13,
   "id": "4538d565-dc63-421b-b961-0cbefb7e256d",
   "metadata": {},
   "outputs": [],
   "source": [
    "p.insert(2,'acsdeasdafaaf')"
   ]
  },
  {
   "cell_type": "code",
   "execution_count": 14,
   "id": "3d1f2c8d-062e-453d-b135-9f91685480cb",
   "metadata": {},
   "outputs": [
    {
     "name": "stdout",
     "output_type": "stream",
     "text": [
      "[1212, 'sabadh', 'acsdeasdafaaf', 'acsdeasdafaaf', 'adada', 1223, 33313, 213123.5, 'ASDA', 'ASDA']\n"
     ]
    }
   ],
   "source": [
    "print(p)"
   ]
  },
  {
   "cell_type": "code",
   "execution_count": 15,
   "id": "d147a955-033d-41bf-8210-bb71493a4f68",
   "metadata": {},
   "outputs": [
    {
     "data": {
      "text/plain": [
       "10"
      ]
     },
     "execution_count": 15,
     "metadata": {},
     "output_type": "execute_result"
    }
   ],
   "source": [
    "len(p)"
   ]
  },
  {
   "cell_type": "code",
   "execution_count": 16,
   "id": "86866219-c00a-4583-9d35-a3162c437863",
   "metadata": {},
   "outputs": [
    {
     "name": "stdout",
     "output_type": "stream",
     "text": [
      "[1212, 'sabadh', 'acsdeasdafaaf', 'adada', 1223, 33313, 213123.5, 'ASDA', 'ASDA']\n"
     ]
    }
   ],
   "source": [
    "p.pop(2)\n",
    "print(p)"
   ]
  },
  {
   "cell_type": "code",
   "execution_count": 17,
   "id": "bbaaf933-eea3-4990-8e1c-6ba43eb7ee59",
   "metadata": {},
   "outputs": [
    {
     "data": {
      "text/plain": [
       "[1212,\n",
       " 'sabadh',\n",
       " 'acsdeasdafaaf',\n",
       " 'adada',\n",
       " 1223,\n",
       " 33313,\n",
       " 213123.5,\n",
       " 'ASDA',\n",
       " 'ASDA']"
      ]
     },
     "execution_count": 17,
     "metadata": {},
     "output_type": "execute_result"
    }
   ],
   "source": [
    "p"
   ]
  },
  {
   "cell_type": "code",
   "execution_count": 18,
   "id": "447791d1-e96a-4e13-b8b1-fa3446eafae1",
   "metadata": {},
   "outputs": [
    {
     "data": {
      "text/plain": [
       "'ASDA'"
      ]
     },
     "execution_count": 18,
     "metadata": {},
     "output_type": "execute_result"
    }
   ],
   "source": [
    "p.pop(-1)"
   ]
  },
  {
   "cell_type": "code",
   "execution_count": 19,
   "id": "646d6da9-df43-4a43-9f52-b8fbff267dd4",
   "metadata": {},
   "outputs": [
    {
     "data": {
      "text/plain": [
       "[1212, 'sabadh', 'acsdeasdafaaf', 'adada', 1223, 33313, 213123.5, 'ASDA']"
      ]
     },
     "execution_count": 19,
     "metadata": {},
     "output_type": "execute_result"
    }
   ],
   "source": [
    "p"
   ]
  },
  {
   "cell_type": "code",
   "execution_count": 20,
   "id": "73350424-ae9f-4af4-8657-70dad6b82750",
   "metadata": {},
   "outputs": [
    {
     "data": {
      "text/plain": [
       "[1212, 'sabadh', 'acsdeasdafaaf', 'adada', 1223, 33313, 213123.5, 'ASDA']"
      ]
     },
     "execution_count": 20,
     "metadata": {},
     "output_type": "execute_result"
    }
   ],
   "source": [
    "p\n"
   ]
  },
  {
   "cell_type": "code",
   "execution_count": 21,
   "id": "5c832b20-0eb4-4528-aa7f-f0cc1907d4c8",
   "metadata": {},
   "outputs": [
    {
     "ename": "TypeError",
     "evalue": "'list' object is not callable",
     "output_type": "error",
     "traceback": [
      "\u001b[0;31m---------------------------------------------------------------------------\u001b[0m",
      "\u001b[0;31mTypeError\u001b[0m                                 Traceback (most recent call last)",
      "Cell \u001b[0;32mIn[21], line 2\u001b[0m\n\u001b[1;32m      1\u001b[0m l\u001b[38;5;241m=\u001b[39m[\u001b[38;5;241m1\u001b[39m,\u001b[38;5;241m25\u001b[39m,\u001b[38;5;124m'\u001b[39m\u001b[38;5;124masdad\u001b[39m\u001b[38;5;124m'\u001b[39m,\u001b[38;5;124m'\u001b[39m\u001b[38;5;124mczcv\u001b[39m\u001b[38;5;124m'\u001b[39m,[\u001b[38;5;241m2\u001b[39m,\u001b[38;5;241m3\u001b[39m,\u001b[38;5;241m8\u001b[39m,\u001b[38;5;241m4\u001b[39m],\u001b[38;5;241m486\u001b[39m,\u001b[38;5;241m96464\u001b[39m]\n\u001b[0;32m----> 2\u001b[0m \u001b[43ml\u001b[49m\u001b[43m(\u001b[49m\u001b[38;5;241;43m4\u001b[39;49m\u001b[43m)\u001b[49m\n",
      "\u001b[0;31mTypeError\u001b[0m: 'list' object is not callable"
     ]
    }
   ],
   "source": [
    "l=[1,25,'asdad','czcv',[2,3,8,4],486,96464]\n",
    "l(4)"
   ]
  },
  {
   "cell_type": "code",
   "execution_count": 23,
   "id": "37d10682-f928-4a4f-8ff1-b2fd5b07f157",
   "metadata": {},
   "outputs": [
    {
     "ename": "TypeError",
     "evalue": "'list' object is not callable",
     "output_type": "error",
     "traceback": [
      "\u001b[0;31m---------------------------------------------------------------------------\u001b[0m",
      "\u001b[0;31mTypeError\u001b[0m                                 Traceback (most recent call last)",
      "Cell \u001b[0;32mIn[23], line 1\u001b[0m\n\u001b[0;32m----> 1\u001b[0m \u001b[38;5;28mprint\u001b[39m(\u001b[43ml\u001b[49m\u001b[43m(\u001b[49m\u001b[38;5;241;43m4\u001b[39;49m\u001b[43m)\u001b[49m)\n",
      "\u001b[0;31mTypeError\u001b[0m: 'list' object is not callable"
     ]
    }
   ],
   "source": [
    "print(l(4))"
   ]
  },
  {
   "cell_type": "code",
   "execution_count": 26,
   "id": "411fcdf2-0996-47af-bce0-d530f1eb3ec3",
   "metadata": {},
   "outputs": [
    {
     "data": {
      "text/plain": [
       "[1, 25, 'asdad', 'czcv', [2, 3, 4], 486, 96464]"
      ]
     },
     "execution_count": 26,
     "metadata": {},
     "output_type": "execute_result"
    }
   ],
   "source": [
    "l=[1,25,'asdad','czcv',[2,3,8,4],486,96464]\n",
    "l[4].remove(8)\n",
    "l"
   ]
  },
  {
   "cell_type": "code",
   "execution_count": 27,
   "id": "fcfa352b-07dc-4242-a19b-0f7fb3ad1c81",
   "metadata": {},
   "outputs": [
    {
     "data": {
      "text/plain": [
       "'how to remove a list item within a list'"
      ]
     },
     "execution_count": 27,
     "metadata": {},
     "output_type": "execute_result"
    }
   ],
   "source": [
    "\"\"\"how to remove a list item within a list\"\"\""
   ]
  },
  {
   "cell_type": "code",
   "execution_count": 1,
   "id": "55d84a74-3549-45ca-94bc-a1d3019ac72d",
   "metadata": {},
   "outputs": [
    {
     "ename": "SyntaxError",
     "evalue": "incomplete input (1503120714.py, line 1)",
     "output_type": "error",
     "traceback": [
      "\u001b[0;36m  Cell \u001b[0;32mIn[1], line 1\u001b[0;36m\u001b[0m\n\u001b[0;31m    a={'a':\"apple\",'b':\"ball\",c\u001b[0m\n\u001b[0m                               ^\u001b[0m\n\u001b[0;31mSyntaxError\u001b[0m\u001b[0;31m:\u001b[0m incomplete input\n"
     ]
    }
   ],
   "source": [
    "a={'a':\"apple\",'b':\"ball\",c"
   ]
  },
  {
   "cell_type": "code",
   "execution_count": 2,
   "id": "c1fc0037-4230-48f1-8183-4f09b7464210",
   "metadata": {},
   "outputs": [],
   "source": [
    "###dictinory\n",
    "a={'a':\"apple\",'b':\"ball\",'c':'cat'}"
   ]
  },
  {
   "cell_type": "code",
   "execution_count": 3,
   "id": "f876971e-ddc9-4632-b542-dac150b1776a",
   "metadata": {},
   "outputs": [
    {
     "data": {
      "text/plain": [
       "{'a': 'apple', 'b': 'ball', 'c': 'cat'}"
      ]
     },
     "execution_count": 3,
     "metadata": {},
     "output_type": "execute_result"
    }
   ],
   "source": [
    "a"
   ]
  },
  {
   "cell_type": "code",
   "execution_count": 4,
   "id": "e911298e-3647-420d-8408-bc8861043280",
   "metadata": {},
   "outputs": [
    {
     "data": {
      "text/plain": [
       "{546: 'asdad', 585: 'dsdad'}"
      ]
     },
     "execution_count": 4,
     "metadata": {},
     "output_type": "execute_result"
    }
   ],
   "source": [
    "b={546:'asdad',585:'dsdad'}\n",
    "b"
   ]
  },
  {
   "cell_type": "code",
   "execution_count": 6,
   "id": "109d967f-8771-4f29-90f0-792c04477d2c",
   "metadata": {},
   "outputs": [
    {
     "data": {
      "text/plain": [
       "{'email': 'arjun@pgmail.com'}"
      ]
     },
     "execution_count": 6,
     "metadata": {},
     "output_type": "execute_result"
    }
   ],
   "source": [
    "# special character can also be taken in account \n",
    "a1={'email':'arjun@pgmail.com'}\n",
    "a1"
   ]
  },
  {
   "cell_type": "code",
   "execution_count": 7,
   "id": "326b874b-907f-4c2f-aab7-443037f8698c",
   "metadata": {},
   "outputs": [
    {
     "data": {
      "text/plain": [
       "{'email': 'arjun*pgmail.com'}"
      ]
     },
     "execution_count": 7,
     "metadata": {},
     "output_type": "execute_result"
    }
   ],
   "source": [
    "a2={'email':'arjun*pgmail.com'}\n",
    "a2"
   ]
  },
  {
   "cell_type": "code",
   "execution_count": 8,
   "id": "ce6faded-669a-4743-9696-faa7ebbd7a60",
   "metadata": {},
   "outputs": [
    {
     "data": {
      "text/plain": [
       "'bad'"
      ]
     },
     "execution_count": 8,
     "metadata": {},
     "output_type": "execute_result"
    }
   ],
   "source": [
    "d={234:'apple',True:'bad'}\n",
    "d[1]"
   ]
  },
  {
   "cell_type": "code",
   "execution_count": 16,
   "id": "3467dfe7-4b45-4f8f-8756-71b53e67c23a",
   "metadata": {},
   "outputs": [
    {
     "data": {
      "text/plain": [
       "'android'"
      ]
     },
     "execution_count": 16,
     "metadata": {},
     "output_type": "execute_result"
    }
   ],
   "source": [
    "# we can access the True value using 1 also \n",
    "\n",
    "m={'a':[2545.4,'apple','android','samsung'],'b':['oppo','realme','redmi']}\n",
    "m['a'][2]"
   ]
  },
  {
   "cell_type": "code",
   "execution_count": 17,
   "id": "783ec33b-fd70-4925-97c6-84461b52d72e",
   "metadata": {},
   "outputs": [],
   "source": [
    "## we can actually caall the different value assigned to the key \n",
    "\n",
    "# now if we want to add a particular key after forming a dictionary let suppose i want to add data in m \n",
    "m['c']=['iqoo', 'inifinix','poco']\n"
   ]
  },
  {
   "cell_type": "code",
   "execution_count": 18,
   "id": "947c4bb8-e94a-4d11-9f89-aa8b2b2a606a",
   "metadata": {},
   "outputs": [
    {
     "data": {
      "text/plain": [
       "{'a': [2545.4, 'apple', 'android', 'samsung'],\n",
       " 'b': ['oppo', 'realme', 'redmi'],\n",
       " 'c': ['iqoo', 'inifinix', 'poco']}"
      ]
     },
     "execution_count": 18,
     "metadata": {},
     "output_type": "execute_result"
    }
   ],
   "source": [
    "m"
   ]
  },
  {
   "cell_type": "code",
   "execution_count": 19,
   "id": "6dfc3885-2ad4-4b12-8e07-458c9f202cff",
   "metadata": {},
   "outputs": [
    {
     "data": {
      "text/plain": [
       "dict_keys(['a', 'b', 'c'])"
      ]
     },
     "execution_count": 19,
     "metadata": {},
     "output_type": "execute_result"
    }
   ],
   "source": [
    "# it will automatically insert the file \n",
    "\n",
    "\n",
    "# to find the inserted keys , will sshow the data for the keys value only \n",
    "m.keys()"
   ]
  },
  {
   "cell_type": "code",
   "execution_count": 20,
   "id": "a88de737-9b13-470f-9199-871230659f2f",
   "metadata": {},
   "outputs": [
    {
     "data": {
      "text/plain": [
       "['a', 'b', 'c']"
      ]
     },
     "execution_count": 20,
     "metadata": {},
     "output_type": "execute_result"
    }
   ],
   "source": [
    "# if you wat in a list format \n",
    "list(m.keys())"
   ]
  },
  {
   "cell_type": "code",
   "execution_count": 21,
   "id": "e4693d3a-a7a3-4efc-a4c6-2a8d7134d831",
   "metadata": {},
   "outputs": [
    {
     "data": {
      "text/plain": [
       "[[2545.4, 'apple', 'android', 'samsung'],\n",
       " ['oppo', 'realme', 'redmi'],\n",
       " ['iqoo', 'inifinix', 'poco']]"
      ]
     },
     "execution_count": 21,
     "metadata": {},
     "output_type": "execute_result"
    }
   ],
   "source": [
    "list(m.values())"
   ]
  },
  {
   "cell_type": "code",
   "execution_count": 22,
   "id": "4cd4ec42-4ade-400a-966d-b2f3b63a9221",
   "metadata": {},
   "outputs": [
    {
     "data": {
      "text/plain": [
       "[('a', [2545.4, 'apple', 'android', 'samsung']),\n",
       " ('b', ['oppo', 'realme', 'redmi']),\n",
       " ('c', ['iqoo', 'inifinix', 'poco'])]"
      ]
     },
     "execution_count": 22,
     "metadata": {},
     "output_type": "execute_result"
    }
   ],
   "source": [
    "list(m.items())"
   ]
  },
  {
   "cell_type": "code",
   "execution_count": 1,
   "id": "26908119-7f3a-4c89-92d7-fa5c0ef85920",
   "metadata": {},
   "outputs": [
    {
     "data": {
      "text/plain": [
       "{'a': [2545.4, 'apple', 'android', 'samsung'],\n",
       " 'b': ['oppo', 'realme', 'redmi'],\n",
       " 'c': {'samsung': 'galaxy', 'iqoo': '7pro'}}"
      ]
     },
     "execution_count": 1,
     "metadata": {},
     "output_type": "execute_result"
    }
   ],
   "source": [
    "# can create a dict inside a dict \n",
    "m={'a':[2545.4,'apple','android','samsung'],'b':['oppo','realme','redmi'], 'c':{'samsung':'galaxy','iqoo':'7pro' }}\n",
    "m"
   ]
  },
  {
   "cell_type": "code",
   "execution_count": 3,
   "id": "7470d8fd-84f3-4c1a-844a-9ccc5c2ed46c",
   "metadata": {},
   "outputs": [],
   "source": [
    "#///to bring out a specific data from inside "
   ]
  },
  {
   "cell_type": "code",
   "execution_count": 4,
   "id": "ca6a43e9-ebcc-498c-a51b-fd1614c73eaf",
   "metadata": {},
   "outputs": [
    {
     "data": {
      "text/plain": [
       "'7pro'"
      ]
     },
     "execution_count": 4,
     "metadata": {},
     "output_type": "execute_result"
    }
   ],
   "source": [
    "m['c']['iqoo']"
   ]
  },
  {
   "cell_type": "code",
   "execution_count": 5,
   "id": "a6c12064-f7dd-4c60-90f7-e2002f2c9401",
   "metadata": {},
   "outputs": [
    {
     "ename": "KeyError",
     "evalue": "'iqoo'",
     "output_type": "error",
     "traceback": [
      "\u001b[0;31m---------------------------------------------------------------------------\u001b[0m",
      "\u001b[0;31mKeyError\u001b[0m                                  Traceback (most recent call last)",
      "Cell \u001b[0;32mIn[5], line 1\u001b[0m\n\u001b[0;32m----> 1\u001b[0m \u001b[43mm\u001b[49m\u001b[38;5;241;43m.\u001b[39;49m\u001b[43mpop\u001b[49m\u001b[43m(\u001b[49m\u001b[38;5;124;43m'\u001b[39;49m\u001b[38;5;124;43miqoo\u001b[39;49m\u001b[38;5;124;43m'\u001b[39;49m\u001b[43m)\u001b[49m\n",
      "\u001b[0;31mKeyError\u001b[0m: 'iqoo'"
     ]
    }
   ],
   "source": [
    "m.pop('iqoo')"
   ]
  },
  {
   "cell_type": "code",
   "execution_count": 6,
   "id": "d3c521b1-6856-4168-9787-60ecffc00761",
   "metadata": {},
   "outputs": [
    {
     "name": "stderr",
     "output_type": "stream",
     "text": [
      "<>:1: SyntaxWarning: str indices must be integers or slices, not str; perhaps you missed a comma?\n",
      "<>:1: SyntaxWarning: str indices must be integers or slices, not str; perhaps you missed a comma?\n",
      "/tmp/ipykernel_77/1998702094.py:1: SyntaxWarning: str indices must be integers or slices, not str; perhaps you missed a comma?\n",
      "  m.pop('c'['iqoo'])\n",
      "/tmp/ipykernel_77/1998702094.py:1: SyntaxWarning: str indices must be integers or slices, not str; perhaps you missed a comma?\n",
      "  m.pop('c'['iqoo'])\n",
      "/tmp/ipykernel_77/1998702094.py:1: SyntaxWarning: str indices must be integers or slices, not str; perhaps you missed a comma?\n",
      "  m.pop('c'['iqoo'])\n"
     ]
    },
    {
     "ename": "TypeError",
     "evalue": "string indices must be integers",
     "output_type": "error",
     "traceback": [
      "\u001b[0;31m---------------------------------------------------------------------------\u001b[0m",
      "\u001b[0;31mTypeError\u001b[0m                                 Traceback (most recent call last)",
      "Cell \u001b[0;32mIn[6], line 1\u001b[0m\n\u001b[0;32m----> 1\u001b[0m m\u001b[38;5;241m.\u001b[39mpop(\u001b[38;5;124;43m'\u001b[39;49m\u001b[38;5;124;43mc\u001b[39;49m\u001b[38;5;124;43m'\u001b[39;49m\u001b[43m[\u001b[49m\u001b[38;5;124;43m'\u001b[39;49m\u001b[38;5;124;43miqoo\u001b[39;49m\u001b[38;5;124;43m'\u001b[39;49m\u001b[43m]\u001b[49m)\n",
      "\u001b[0;31mTypeError\u001b[0m: string indices must be integers"
     ]
    }
   ],
   "source": [
    "m.pop('c'['iqoo'])"
   ]
  },
  {
   "cell_type": "code",
   "execution_count": 7,
   "id": "ee79b884-2a90-4f69-8466-6846e90cf23e",
   "metadata": {},
   "outputs": [
    {
     "data": {
      "text/plain": [
       "{'samsung': 'galaxy', 'iqoo': '7pro'}"
      ]
     },
     "execution_count": 7,
     "metadata": {},
     "output_type": "execute_result"
    }
   ],
   "source": [
    "m.pop('c')"
   ]
  },
  {
   "cell_type": "code",
   "execution_count": 8,
   "id": "43039686-4bf0-4f8a-b1a8-278c2f8557b5",
   "metadata": {},
   "outputs": [
    {
     "data": {
      "text/plain": [
       "{'a': [2545.4, 'apple', 'android', 'samsung'],\n",
       " 'b': ['oppo', 'realme', 'redmi']}"
      ]
     },
     "execution_count": 8,
     "metadata": {},
     "output_type": "execute_result"
    }
   ],
   "source": [
    "m"
   ]
  },
  {
   "cell_type": "code",
   "execution_count": null,
   "id": "c5ab22c3-a113-49f5-bdfc-5f852150ce23",
   "metadata": {},
   "outputs": [],
   "source": []
  }
 ],
 "metadata": {
  "kernelspec": {
   "display_name": "Python 3 (ipykernel)",
   "language": "python",
   "name": "python3"
  },
  "language_info": {
   "codemirror_mode": {
    "name": "ipython",
    "version": 3
   },
   "file_extension": ".py",
   "mimetype": "text/x-python",
   "name": "python",
   "nbconvert_exporter": "python",
   "pygments_lexer": "ipython3",
   "version": "3.10.8"
  }
 },
 "nbformat": 4,
 "nbformat_minor": 5
}
