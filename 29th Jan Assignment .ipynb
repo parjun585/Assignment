{
 "cells": [
  {
   "cell_type": "code",
   "execution_count": 5,
   "id": "02e9852f-2725-4cf3-a777-68915d0ea406",
   "metadata": {},
   "outputs": [
    {
     "name": "stdout",
     "output_type": "stream",
     "text": [
      "Assignment Questions \n",
      "\t1. Who developed Python programming Language? \n",
      "\t2. Which type of programming does Python support? \n",
      "\t3. IS Python case sensitive when with identifiers? \n",
      "\t4. What is the correct extension of the Python file? \n",
      "\t5. IS Python code compiled or interpreted? \n",
      "\t6. Name a few blocks of code used to define in Python language? \n",
      "\t7. State a character used to give single-line comments in Python? \n",
      "\t8. Mention functions which can help us to find the version of python that we are currently working on? \n",
      "\t9. Python supports the creation Of anonymous functions at runtime, using a construct called_____\n",
      "\t10. What does pip stand for in python? \n",
      "\t11. Mention a few built-in function in python? \n",
      "\t12. What is the maximum possible length Of an in Python? \n",
      "\t13. what are the benefit of using python? \n",
      "\t14. How is memory managed in Python? \n",
      "\t15. How to install python on windows and set path variables?\n",
      "\t16.indentation required in Python? \n"
     ]
    }
   ],
   "source": [
    "\n",
    "print(\"\"\"Assignment Questions \n",
    "\t1. Who developed Python programming Language? \n",
    "\t2. Which type of programming does Python support? \n",
    "\t3. IS Python case sensitive when with identifiers? \n",
    "\t4. What is the correct extension of the Python file? \n",
    "\t5. IS Python code compiled or interpreted? \n",
    "\t6. Name a few blocks of code used to define in Python language? \n",
    "\t7. State a character used to give single-line comments in Python? \n",
    "\t8. Mention functions which can help us to find the version of python that we are currently working on? \n",
    "\t9. Python supports the creation Of anonymous functions at runtime, using a construct called_____\n",
    "\t10. What does pip stand for in python? \n",
    "\t11. Mention a few built-in function in python? \n",
    "\t12. What is the maximum possible length Of an in Python? \n",
    "\t13. what are the benefit of using python? \n",
    "\t14. How is memory managed in Python? \n",
    "\t15. How to install python on windows and set path variables?\n",
    "\t16.indentation required in Python? \"\"\")\n",
    "          \n",
    "   "
   ]
  },
  {
   "cell_type": "code",
   "execution_count": 7,
   "id": "7619d6da-c9ae-435f-a16e-ab8922ff4224",
   "metadata": {},
   "outputs": [
    {
     "name": "stdout",
     "output_type": "stream",
     "text": [
      "Assignment Answers\n"
     ]
    }
   ],
   "source": [
    "print(\"\"\"Assignment Answers\n",
    "\n",
    "1. Who developed Python programming language?\n",
    "Python was created by Guido van Rossum \n",
    "\n",
    "2. Which type of programming does Python support?\n",
    "Python is a multi-paradigm language, meaning it can be used for various programming styles:\n",
    "-Procedural programming: Using functions and procedures to organize code.\n",
    "-Object-oriented programming: Defining classes and objects with attributes and methods.\n",
    "-Functional programming: Using functions as first-class objects and avoiding side effects.\n",
    "\n",
    "3. Is Python case sensitive when working with identifiers?\n",
    "Yes, Python is case-sensitive. This means that name and Name are considered different identifiers.\n",
    "\n",
    "4. What is the correct extension of a Python file?\n",
    "The standard extension for Python files is .py.\n",
    "\n",
    "5. Is Python code compiled or interpreted?\n",
    "Python is interpreted. This means that the code is executed line by line by an interpreter, rather than being compiled into machine code beforehand.\n",
    "\n",
    "6. Name a few blocks of code used to define control flow in Python language?\n",
    "Python uses conditional statements (if, elif, else) and looping statements (for, while) to control the flow.\n",
    "\n",
    "7. State a character used to give single-line comments in Python?\n",
    "You can use the # symbol to add single-line comments in Python.\n",
    "\n",
    "8. Mention functions which can help us to find the version of Python that we are currently working on?\n",
    "You can use the sys.version variable or the platform.python_version() function to get the Python version.\n",
    "\n",
    "9. Python supports the creation of anonymous functions at runtime, using a construct called_____\n",
    "lambda expressions.\n",
    "\n",
    "10. What does pip stand for in Python?\n",
    "pip stands for Package Installer for Python. It's a tool used to install and manage Python packages and modules.\n",
    "\n",
    "11. Mention a few built-in functions in Python?\n",
    "Python has a rich set of built-in functions for various tasks, including:\n",
    "print(): Printing to the console.\n",
    "len(): Finding the length of an object.\n",
    "type(): Getting the type of an object.\n",
    "input(): Getting input from the user.\n",
    "range(): Creating sequences of numbers.\n",
    "\n",
    "12. What is the maximum possible length of an identifier in Python?\n",
    "There's no theoretical limit to the length of an identifier in Python, but it's generally recommended to keep them reasonably short and meaningful for readability.\n",
    "\n",
    "13. What are the benefits of using Python?\n",
    "Python offers many advantages, including:\n",
    "Easy to learn and read: Its syntax is simple and resembles natural language,Versatility: Suitable for various tasks, from web development to data science.\n",
    "Large and active community: Extensive support and resources available.\n",
    "Free and open-source: No licensing costs.\n",
    "\n",
    "14. How is memory managed in Python?\n",
    "Python uses automatic garbage collection, meaning the interpreter automatically reclaims unused memory. This simplifies memory management for developers.\n",
    "\n",
    "15. How to install Python on Windows and set path variables?\n",
    "You can download the Python installer from https://www.python.org/downloads/windows/. During installation, you can choose to add Python to your system path, making it accessible from any command prompt.\n",
    "\n",
    "16. Is indentation required in Python?\n",
    "Yes, indentation is crucial in Python. It defines code blocks and controls the flow of execution. Using improper indentation will lead to errors.\n",
    "\n",
    "\n",
    "\n",
    "\n",
    "\n",
    "\n",
    "\n",
    "\n",
    "\n",
    "\n",
    "\n",
    "\n",
    "\n",
    "\n",
    "\"\"\")\n"
   ]
  },
  {
   "cell_type": "code",
   "execution_count": null,
   "id": "02a3ab9b-5693-4eb8-b17f-1ed10fec1256",
   "metadata": {},
   "outputs": [],
   "source": []
  },
  {
   "cell_type": "code",
   "execution_count": null,
   "id": "e8d8f83b-f2e7-4462-b534-28ae794b4831",
   "metadata": {},
   "outputs": [],
   "source": []
  }
 ],
 "metadata": {
  "kernelspec": {
   "display_name": "Python 3 (ipykernel)",
   "language": "python",
   "name": "python3"
  },
  "language_info": {
   "codemirror_mode": {
    "name": "ipython",
    "version": 3
   },
   "file_extension": ".py",
   "mimetype": "text/x-python",
   "name": "python",
   "nbconvert_exporter": "python",
   "pygments_lexer": "ipython3",
   "version": "3.10.8"
  }
 },
 "nbformat": 4,
 "nbformat_minor": 5
}
